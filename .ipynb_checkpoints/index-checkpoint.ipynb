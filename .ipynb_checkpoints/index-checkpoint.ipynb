{
 "cells": [
  {
   "cell_type": "code",
   "execution_count": 1,
   "metadata": {},
   "outputs": [],
   "source": [
    "import pandas as pd\n",
    "import numpy as np"
   ]
  },
  {
   "cell_type": "code",
   "execution_count": 2,
   "metadata": {},
   "outputs": [],
   "source": [
    "df = pd.read_excel(open('data/Crime in Major Cities.xlsx','rb'), sheetname='Crime Rates 2010')"
   ]
  },
  {
   "cell_type": "code",
   "execution_count": 3,
   "metadata": {},
   "outputs": [
    {
     "data": {
      "text/html": [
       "<div>\n",
       "<style>\n",
       "    .dataframe thead tr:only-child th {\n",
       "        text-align: right;\n",
       "    }\n",
       "\n",
       "    .dataframe thead th {\n",
       "        text-align: left;\n",
       "    }\n",
       "\n",
       "    .dataframe tbody tr th {\n",
       "        vertical-align: top;\n",
       "    }\n",
       "</style>\n",
       "<table border=\"1\" class=\"dataframe\">\n",
       "  <thead>\n",
       "    <tr style=\"text-align: right;\">\n",
       "      <th></th>\n",
       "      <th>Metropolitan Statistical Area</th>\n",
       "      <th>All Violent</th>\n",
       "      <th>Murder</th>\n",
       "      <th>Rape</th>\n",
       "      <th>Robbery</th>\n",
       "      <th>Assault</th>\n",
       "      <th>All Property</th>\n",
       "      <th>Burglary</th>\n",
       "      <th>Larceny</th>\n",
       "      <th>Car Theft</th>\n",
       "    </tr>\n",
       "  </thead>\n",
       "  <tbody>\n",
       "    <tr>\n",
       "      <th>0</th>\n",
       "      <td>Abilene, TX M.S.A.</td>\n",
       "      <td>423.0</td>\n",
       "      <td>3.1</td>\n",
       "      <td>48.9</td>\n",
       "      <td>72.7</td>\n",
       "      <td>298.3</td>\n",
       "      <td>3617.3</td>\n",
       "      <td>1009.0</td>\n",
       "      <td>2459.8</td>\n",
       "      <td>148.5</td>\n",
       "    </tr>\n",
       "    <tr>\n",
       "      <th>1</th>\n",
       "      <td>Akron, OH M.S.A.</td>\n",
       "      <td>304.7</td>\n",
       "      <td>3.7</td>\n",
       "      <td>40.9</td>\n",
       "      <td>105.1</td>\n",
       "      <td>155.0</td>\n",
       "      <td>3185.6</td>\n",
       "      <td>947.7</td>\n",
       "      <td>2074.5</td>\n",
       "      <td>163.3</td>\n",
       "    </tr>\n",
       "    <tr>\n",
       "      <th>2</th>\n",
       "      <td>Albany, GA M.S.A.</td>\n",
       "      <td>566.0</td>\n",
       "      <td>8.7</td>\n",
       "      <td>24.9</td>\n",
       "      <td>150.4</td>\n",
       "      <td>382.1</td>\n",
       "      <td>4512.6</td>\n",
       "      <td>1417.8</td>\n",
       "      <td>2803.4</td>\n",
       "      <td>291.4</td>\n",
       "    </tr>\n",
       "    <tr>\n",
       "      <th>3</th>\n",
       "      <td>Albany-Schenectady-Troy, NY M.S.A.</td>\n",
       "      <td>310.4</td>\n",
       "      <td>1.5</td>\n",
       "      <td>21.0</td>\n",
       "      <td>98.5</td>\n",
       "      <td>189.4</td>\n",
       "      <td>2693.6</td>\n",
       "      <td>512.1</td>\n",
       "      <td>2076.2</td>\n",
       "      <td>105.4</td>\n",
       "    </tr>\n",
       "    <tr>\n",
       "      <th>4</th>\n",
       "      <td>Albuquerque, NM M.S.A.</td>\n",
       "      <td>670.4</td>\n",
       "      <td>5.8</td>\n",
       "      <td>44.8</td>\n",
       "      <td>124.3</td>\n",
       "      <td>495.6</td>\n",
       "      <td>3896.1</td>\n",
       "      <td>920.6</td>\n",
       "      <td>2586.2</td>\n",
       "      <td>389.4</td>\n",
       "    </tr>\n",
       "  </tbody>\n",
       "</table>\n",
       "</div>"
      ],
      "text/plain": [
       "        Metropolitan Statistical Area  All Violent  Murder  Rape  Robbery  \\\n",
       "0                  Abilene, TX M.S.A.        423.0     3.1  48.9     72.7   \n",
       "1                    Akron, OH M.S.A.        304.7     3.7  40.9    105.1   \n",
       "2                   Albany, GA M.S.A.        566.0     8.7  24.9    150.4   \n",
       "3  Albany-Schenectady-Troy, NY M.S.A.        310.4     1.5  21.0     98.5   \n",
       "4              Albuquerque, NM M.S.A.        670.4     5.8  44.8    124.3   \n",
       "\n",
       "   Assault  All Property  Burglary  Larceny  Car Theft  \n",
       "0    298.3        3617.3    1009.0   2459.8      148.5  \n",
       "1    155.0        3185.6     947.7   2074.5      163.3  \n",
       "2    382.1        4512.6    1417.8   2803.4      291.4  \n",
       "3    189.4        2693.6     512.1   2076.2      105.4  \n",
       "4    495.6        3896.1     920.6   2586.2      389.4  "
      ]
     },
     "execution_count": 3,
     "metadata": {},
     "output_type": "execute_result"
    }
   ],
   "source": [
    "df.head()"
   ]
  },
  {
   "cell_type": "code",
   "execution_count": 4,
   "metadata": {},
   "outputs": [],
   "source": [
    "df = df.fillna(0)"
   ]
  },
  {
   "cell_type": "code",
   "execution_count": 5,
   "metadata": {},
   "outputs": [],
   "source": [
    "rows, cols = df.shape"
   ]
  },
  {
   "cell_type": "code",
   "execution_count": 6,
   "metadata": {},
   "outputs": [
    {
     "data": {
      "text/plain": [
       "365"
      ]
     },
     "execution_count": 6,
     "metadata": {},
     "output_type": "execute_result"
    }
   ],
   "source": [
    "rows"
   ]
  },
  {
   "cell_type": "code",
   "execution_count": 7,
   "metadata": {},
   "outputs": [
    {
     "data": {
      "text/plain": [
       "10"
      ]
     },
     "execution_count": 7,
     "metadata": {},
     "output_type": "execute_result"
    }
   ],
   "source": [
    "cols"
   ]
  },
  {
   "cell_type": "code",
   "execution_count": 8,
   "metadata": {},
   "outputs": [],
   "source": [
    "df_sum = df.iloc[:, 1:].sum(axis=0)"
   ]
  },
  {
   "cell_type": "code",
   "execution_count": 9,
   "metadata": {},
   "outputs": [
    {
     "data": {
      "text/plain": [
       "All Violent      139824.4\n",
       "Murder             1487.8\n",
       "Rape              11447.8\n",
       "Robbery           34263.2\n",
       "Assault           93938.2\n",
       "All Property    1130899.8\n",
       "Burglary         278540.2\n",
       "Larceny          786626.2\n",
       "Car Theft         73079.7\n",
       "dtype: float64"
      ]
     },
     "execution_count": 9,
     "metadata": {},
     "output_type": "execute_result"
    }
   ],
   "source": [
    "df_sum"
   ]
  },
  {
   "cell_type": "code",
   "execution_count": 10,
   "metadata": {
    "scrolled": true
   },
   "outputs": [],
   "source": [
    "for i in range(0, rows):\n",
    "    for j in range(1, cols):\n",
    "        df.iloc[i,j] = df.iloc[i,j] / df_sum[j-1] * 100"
   ]
  },
  {
   "cell_type": "code",
   "execution_count": 11,
   "metadata": {},
   "outputs": [
    {
     "data": {
      "text/html": [
       "<div>\n",
       "<style>\n",
       "    .dataframe thead tr:only-child th {\n",
       "        text-align: right;\n",
       "    }\n",
       "\n",
       "    .dataframe thead th {\n",
       "        text-align: left;\n",
       "    }\n",
       "\n",
       "    .dataframe tbody tr th {\n",
       "        vertical-align: top;\n",
       "    }\n",
       "</style>\n",
       "<table border=\"1\" class=\"dataframe\">\n",
       "  <thead>\n",
       "    <tr style=\"text-align: right;\">\n",
       "      <th></th>\n",
       "      <th>Metropolitan Statistical Area</th>\n",
       "      <th>All Violent</th>\n",
       "      <th>Murder</th>\n",
       "      <th>Rape</th>\n",
       "      <th>Robbery</th>\n",
       "      <th>Assault</th>\n",
       "      <th>All Property</th>\n",
       "      <th>Burglary</th>\n",
       "      <th>Larceny</th>\n",
       "      <th>Car Theft</th>\n",
       "    </tr>\n",
       "  </thead>\n",
       "  <tbody>\n",
       "    <tr>\n",
       "      <th>0</th>\n",
       "      <td>Abilene, TX M.S.A.</td>\n",
       "      <td>0.302522</td>\n",
       "      <td>0.208361</td>\n",
       "      <td>0.427156</td>\n",
       "      <td>0.212181</td>\n",
       "      <td>0.317549</td>\n",
       "      <td>0.319860</td>\n",
       "      <td>0.362246</td>\n",
       "      <td>0.312703</td>\n",
       "      <td>0.203203</td>\n",
       "    </tr>\n",
       "    <tr>\n",
       "      <th>1</th>\n",
       "      <td>Akron, OH M.S.A.</td>\n",
       "      <td>0.217916</td>\n",
       "      <td>0.248689</td>\n",
       "      <td>0.357274</td>\n",
       "      <td>0.306743</td>\n",
       "      <td>0.165002</td>\n",
       "      <td>0.281687</td>\n",
       "      <td>0.340238</td>\n",
       "      <td>0.263721</td>\n",
       "      <td>0.223455</td>\n",
       "    </tr>\n",
       "    <tr>\n",
       "      <th>2</th>\n",
       "      <td>Albany, GA M.S.A.</td>\n",
       "      <td>0.404793</td>\n",
       "      <td>0.584756</td>\n",
       "      <td>0.217509</td>\n",
       "      <td>0.438955</td>\n",
       "      <td>0.406757</td>\n",
       "      <td>0.399027</td>\n",
       "      <td>0.509011</td>\n",
       "      <td>0.356383</td>\n",
       "      <td>0.398743</td>\n",
       "    </tr>\n",
       "    <tr>\n",
       "      <th>3</th>\n",
       "      <td>Albany-Schenectady-Troy, NY M.S.A.</td>\n",
       "      <td>0.221993</td>\n",
       "      <td>0.100820</td>\n",
       "      <td>0.183441</td>\n",
       "      <td>0.287480</td>\n",
       "      <td>0.201622</td>\n",
       "      <td>0.238182</td>\n",
       "      <td>0.183851</td>\n",
       "      <td>0.263937</td>\n",
       "      <td>0.144226</td>\n",
       "    </tr>\n",
       "    <tr>\n",
       "      <th>4</th>\n",
       "      <td>Albuquerque, NM M.S.A.</td>\n",
       "      <td>0.479459</td>\n",
       "      <td>0.389837</td>\n",
       "      <td>0.391342</td>\n",
       "      <td>0.362780</td>\n",
       "      <td>0.527581</td>\n",
       "      <td>0.344513</td>\n",
       "      <td>0.330509</td>\n",
       "      <td>0.328771</td>\n",
       "      <td>0.532843</td>\n",
       "    </tr>\n",
       "  </tbody>\n",
       "</table>\n",
       "</div>"
      ],
      "text/plain": [
       "        Metropolitan Statistical Area  All Violent    Murder      Rape  \\\n",
       "0                  Abilene, TX M.S.A.     0.302522  0.208361  0.427156   \n",
       "1                    Akron, OH M.S.A.     0.217916  0.248689  0.357274   \n",
       "2                   Albany, GA M.S.A.     0.404793  0.584756  0.217509   \n",
       "3  Albany-Schenectady-Troy, NY M.S.A.     0.221993  0.100820  0.183441   \n",
       "4              Albuquerque, NM M.S.A.     0.479459  0.389837  0.391342   \n",
       "\n",
       "    Robbery   Assault  All Property  Burglary   Larceny  Car Theft  \n",
       "0  0.212181  0.317549      0.319860  0.362246  0.312703   0.203203  \n",
       "1  0.306743  0.165002      0.281687  0.340238  0.263721   0.223455  \n",
       "2  0.438955  0.406757      0.399027  0.509011  0.356383   0.398743  \n",
       "3  0.287480  0.201622      0.238182  0.183851  0.263937   0.144226  \n",
       "4  0.362780  0.527581      0.344513  0.330509  0.328771   0.532843  "
      ]
     },
     "execution_count": 11,
     "metadata": {},
     "output_type": "execute_result"
    }
   ],
   "source": [
    "df.head()"
   ]
  },
  {
   "cell_type": "code",
   "execution_count": 12,
   "metadata": {},
   "outputs": [],
   "source": [
    "df.to_csv('Clime Rates Analysis 2010.csv', sep=',')"
   ]
  },
  {
   "cell_type": "code",
   "execution_count": null,
   "metadata": {},
   "outputs": [],
   "source": []
  },
  {
   "cell_type": "code",
   "execution_count": 13,
   "metadata": {},
   "outputs": [],
   "source": [
    "df = pd.read_excel(open('data/Crime in Major Cities.xlsx','rb'), sheetname='Crime Rates 2005')\n",
    "df = df.fillna(0)\n",
    "rows, cols = df.shape\n",
    "df_sum = df.iloc[:, 1:].sum(axis=0)\n",
    "for i in range(0, rows):\n",
    "    for j in range(1, cols):\n",
    "        df.iloc[i,j] = df.iloc[i,j] / df_sum[j-1] * 100\n",
    "df.to_csv('Clime Rates Analysis 2005.csv', sep=',')"
   ]
  },
  {
   "cell_type": "code",
   "execution_count": null,
   "metadata": {},
   "outputs": [],
   "source": []
  },
  {
   "cell_type": "code",
   "execution_count": 14,
   "metadata": {},
   "outputs": [],
   "source": [
    "df = pd.read_excel(open('data/Crime in Major Cities.xlsx','rb'), sheetname='Crime Rates 2000')\n",
    "df = df.fillna(0)\n",
    "rows, cols = df.shape\n",
    "df_sum = df.iloc[:, 1:].sum(axis=0)\n",
    "for i in range(0, rows):\n",
    "    for j in range(1, cols):\n",
    "        df.iloc[i,j] = df.iloc[i,j] / df_sum[j-1] * 100\n",
    "df.to_csv('Clime Rates Analysis 2000.csv', sep=',')"
   ]
  }
 ],
 "metadata": {
  "kernelspec": {
   "display_name": "Python 3",
   "language": "python",
   "name": "python3"
  },
  "language_info": {
   "codemirror_mode": {
    "name": "ipython",
    "version": 3
   },
   "file_extension": ".py",
   "mimetype": "text/x-python",
   "name": "python",
   "nbconvert_exporter": "python",
   "pygments_lexer": "ipython3",
   "version": "3.6.0"
  }
 },
 "nbformat": 4,
 "nbformat_minor": 2
}
